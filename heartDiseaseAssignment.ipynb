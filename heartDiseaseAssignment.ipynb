{
 "cells": [
  {
   "cell_type": "code",
   "execution_count": null,
   "id": "fb7fb887",
   "metadata": {},
   "outputs": [
    {
     "name": "stdout",
     "output_type": "stream",
     "text": [
      "Device used:  cuda\n"
     ]
    }
   ],
   "source": [
    "# Import torch and neural network library:\n",
    "\n",
    "\n",
    "# import sklearn model_selection, StandardScaler\n",
    "\n",
    "\n",
    "# import numpy, pandas, matplotlib, seaborn\n",
    "\n",
    "\n",
    "# Setup device either gpu or cpu\n",
    "\n",
    "\n",
    "print('Device used: ', device)"
   ]
  },
  {
   "cell_type": "code",
   "execution_count": 1,
   "id": "18ae5fd3",
   "metadata": {},
   "outputs": [],
   "source": [
    "# read the dataset framingham.csv and display the first 5 rows.\n"
   ]
  },
  {
   "cell_type": "code",
   "execution_count": 2,
   "id": "bbac1caf",
   "metadata": {},
   "outputs": [],
   "source": [
    "# display the shape, null values\n"
   ]
  },
  {
   "cell_type": "code",
   "execution_count": 3,
   "id": "c16f9788",
   "metadata": {},
   "outputs": [],
   "source": [
    "# Fill null values with either median or mean.\n"
   ]
  },
  {
   "cell_type": "code",
   "execution_count": 4,
   "id": "92b815af",
   "metadata": {},
   "outputs": [],
   "source": [
    "# get the features as X and the target column as y.\n"
   ]
  },
  {
   "cell_type": "code",
   "execution_count": 5,
   "id": "4d698705",
   "metadata": {},
   "outputs": [],
   "source": [
    "# Split the data into train and test:\n"
   ]
  },
  {
   "cell_type": "code",
   "execution_count": null,
   "id": "ef6ee12c",
   "metadata": {},
   "outputs": [],
   "source": [
    "# Scale the features X_train and X_test using StandardScaler\n",
    "\n",
    "\n",
    "# Convert the X_train, X_test, y_train, y_test to torch tensors\n"
   ]
  },
  {
   "cell_type": "code",
   "execution_count": null,
   "id": "ca187120",
   "metadata": {},
   "outputs": [],
   "source": [
    "# Build your neural network\n"
   ]
  },
  {
   "cell_type": "code",
   "execution_count": null,
   "id": "54218298",
   "metadata": {},
   "outputs": [],
   "source": [
    "# Instantiate the model, define the loss function and the optimizer\n"
   ]
  },
  {
   "cell_type": "code",
   "execution_count": 6,
   "id": "bb0c70ad",
   "metadata": {},
   "outputs": [],
   "source": [
    "# Train the model\n"
   ]
  },
  {
   "cell_type": "code",
   "execution_count": 7,
   "id": "496b1910",
   "metadata": {},
   "outputs": [],
   "source": [
    "# Evaluate the model\n"
   ]
  }
 ],
 "metadata": {
  "kernelspec": {
   "display_name": "Python 3",
   "language": "python",
   "name": "python3"
  },
  "language_info": {
   "codemirror_mode": {
    "name": "ipython",
    "version": 3
   },
   "file_extension": ".py",
   "mimetype": "text/x-python",
   "name": "python",
   "nbconvert_exporter": "python",
   "pygments_lexer": "ipython3",
   "version": "3.11.9"
  }
 },
 "nbformat": 4,
 "nbformat_minor": 5
}
